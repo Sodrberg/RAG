{
  "cells": [
    {
      "cell_type": "code",
      "execution_count": 8,
      "metadata": {
        "colab": {
          "base_uri": "https://localhost:8080/"
        },
        "id": "XRBs6-DykUvJ",
        "outputId": "bac32037-e1f2-4314-826e-c3852c1293c1"
      },
      "outputs": [],
      "source": [
        "# !pip install langchain langchain-openai langchain-community faiss-cpu tiktoken"
      ]
    },
    {
      "cell_type": "code",
      "execution_count": 9,
      "metadata": {
        "id": "7Ie0FyhnqMwM"
      },
      "outputs": [],
      "source": [
        "from langchain_openai import OpenAI\n",
        "from langchain_openai import OpenAIEmbeddings\n",
        "from langchain_community.vectorstores import FAISS\n",
        "from langchain_core.vectorstores import VectorStoreRetriever\n",
        "from langchain.chains import RetrievalQA\n",
        "import ast\n",
        "import os\n",
        "from dataclasses import dataclass\n",
        "from typing import List\n",
        "import inspect\n",
        "from dotenv import load_dotenv\n",
        "\n",
        "import os"
      ]
    },
    {
      "cell_type": "code",
      "execution_count": 10,
      "metadata": {
        "id": "IIo81aLBkc5u"
      },
      "outputs": [],
      "source": [
        "load_dotenv()\n",
        "openai_api_key = os.environ.get('OPENAI_API_KEY')\n"
      ]
    },
    {
      "cell_type": "code",
      "execution_count": 11,
      "metadata": {
        "colab": {
          "base_uri": "https://localhost:8080/"
        },
        "id": "_qAwklKYxEth",
        "outputId": "b8af42af-303e-49de-a0fe-f27a7307d04a"
      },
      "outputs": [
        {
          "name": "stdout",
          "output_type": "stream",
          "text": [
            "FAISS library initialized with embedded functions.\n"
          ]
        }
      ],
      "source": [
        "\n",
        "@dataclass\n",
        "class Document:\n",
        "    page_content: str\n",
        "    metadata: dict\n",
        "\n",
        "def extract_code_blocks(file_path):\n",
        "    with open(file_path, 'r') as file:\n",
        "        content = file.read()\n",
        "        tree = ast.parse(content, filename=file_path)\n",
        "    \n",
        "    code_blocks = []\n",
        "\n",
        "    # Extract functions and classes\n",
        "    for node in ast.walk(tree):\n",
        "        if isinstance(node, (ast.FunctionDef, ast.ClassDef)):\n",
        "            code_blocks.append(node)\n",
        "\n",
        "    # Extract top-level executable statements (direct children of the module that are not function or class defs)\n",
        "    top_level_stmts = [node for node in tree.body if isinstance(node, ast.stmt) and not isinstance(node, (ast.FunctionDef, ast.ClassDef))]\n",
        "    if top_level_stmts:\n",
        "        # We wrap them in a Module for consistent handling later\n",
        "        code_blocks.append(ast.Module(body=top_level_stmts, type_ignores=[]))\n",
        "\n",
        "    return code_blocks\n",
        "\n",
        "def embed_code_blocks_from_files(file_paths: List[str]):\n",
        "    embeddings = OpenAIEmbeddings(model=\"text-embedding-3-large\")\n",
        "\n",
        "    docs = []\n",
        "    for file_path in file_paths:\n",
        "        code_blocks = extract_code_blocks(file_path)\n",
        "        for block in code_blocks:\n",
        "            source_code = ast.unparse(block)\n",
        "            if hasattr(block, 'lineno'):\n",
        "                line_number = block.lineno\n",
        "            else:\n",
        "                line_number = 'Not available'  # For wrapped top-level statements without a line number\n",
        "\n",
        "            metadata = {\n",
        "                'file_path': file_path,\n",
        "                'line_number': line_number\n",
        "            }\n",
        "            doc = Document(page_content=source_code, metadata=metadata)\n",
        "            docs.append(doc)\n",
        "\n",
        "    library = FAISS.from_documents(docs, embeddings)\n",
        "\n",
        "    return library\n",
        "\n",
        "def get_python_files_in_directory(directory_path):\n",
        "    python_files = []\n",
        "    for root, _, files in os.walk(directory_path):\n",
        "        for file in files:\n",
        "            if file.endswith('.py'):\n",
        "                python_files.append(os.path.join(root, file))\n",
        "    return python_files\n",
        "\n",
        "directory_path = './games' # Path to the directory containing the Python files\n",
        "python_files = get_python_files_in_directory(directory_path)\n",
        "\n",
        "library = embed_code_blocks_from_files(python_files)\n",
        "print(\"FAISS library initialized with embedded functions.\")\n"
      ]
    },
    {
      "cell_type": "code",
      "execution_count": 12,
      "metadata": {
        "id": "FvBOAL-qHJDC"
      },
      "outputs": [],
      "source": [
        "\n",
        "query = \"How do i write an __init__ function in python?\"\n",
        "# query = \"give me the __init__function from soduko\"\n",
        "# query = \"give me the top level code in pong.py\"\n",
        "\n",
        "\n",
        "\n"
      ]
    },
    {
      "cell_type": "code",
      "execution_count": 13,
      "metadata": {},
      "outputs": [
        {
          "name": "stdout",
          "output_type": "stream",
          "text": [
            "---------------------------------------------\n",
            "The most relevant code snippet is:\n",
            "File: ./games/sodoku.py\n",
            "Line Number: 6\n",
            "\n",
            "Python code from file:\n",
            "def __init__(self):\n",
            "    self.screen = pygame.display.set_mode((540, 540))\n",
            "    self.clock = pygame.time.Clock()\n",
            "    self.font = pygame.font.Font(None, 36)\n",
            "    self.board = [[5, 3, 0, 0, 7, 0, 0, 0, 0], [6, 0, 0, 1, 9, 5, 0, 0, 0], [0, 9, 8, 0, 0, 0, 0, 6, 0], [8, 0, 0, 0, 6, 0, 0, 0, 3], [4, 0, 0, 8, 0, 3, 0, 0, 1], [7, 0, 0, 0, 2, 0, 0, 0, 6], [0, 6, 0, 0, 0, 0, 2, 8, 0], [0, 0, 0, 4, 1, 9, 0, 0, 5], [0, 0, 0, 0, 8, 0, 0, 7, 9]]\n",
            "    self.selected = None\n",
            "---------------------------------------------\n",
            "The 2th most relevant code snippet is:\n",
            "File: ./games/memory_puzzle.py\n",
            "Line Number: 7\n",
            "\n",
            "Python code from file:\n",
            "def __init__(self):\n",
            "    self.screen = pygame.display.set_mode((800, 600))\n",
            "    self.clock = pygame.time.Clock()\n",
            "    self.font = pygame.font.Font(None, 36)\n",
            "    self.setup_game()\n",
            "---------------------------------------------\n",
            "The 3th most relevant code snippet is:\n",
            "File: ./games/2048.py\n",
            "Line Number: 7\n",
            "\n",
            "Python code from file:\n",
            "def __init__(self):\n",
            "    self.screen = pygame.display.set_mode((400, 400))\n",
            "    self.clock = pygame.time.Clock()\n",
            "    self.font = pygame.font.Font(None, 72)\n",
            "    self.board = [[0] * 4 for _ in range(4)]\n",
            "    self.spawn_tile()\n",
            "    self.spawn_tile()\n",
            "---------------------------------------------\n",
            "The 4th most relevant code snippet is:\n",
            "File: ./games/tetris.py\n",
            "Line Number: 33\n",
            "\n",
            "Python code from file:\n",
            "def __init__(self):\n",
            "    self.screen = pygame.display.set_mode((SCREEN_WIDTH, SCREEN_HEIGHT))\n",
            "    pygame.display.set_caption('Tetris')\n",
            "    self.clock = pygame.time.Clock()\n",
            "    self.grid = [[0 for _ in range(SCREEN_WIDTH // GRID_SIZE)] for _ in range(SCREEN_HEIGHT // GRID_SIZE)]\n",
            "    self.current_shape = self.get_random_shape()\n",
            "    self.current_shape_color = random.choice(COLORS)\n",
            "    self.current_shape_x = SCREEN_WIDTH // GRID_SIZE // 2 - len(self.current_shape[0]) // 2\n",
            "    self.current_shape_y = 0\n",
            "    self.game_over = False\n"
          ]
        }
      ],
      "source": [
        "for i in range(4):\n",
        "\n",
        "    query_answer = library.similarity_search(query)\n",
        "    file_path = query_answer[i].metadata['file_path']\n",
        "    line_number = query_answer[i].metadata['line_number']\n",
        "    page_content = query_answer[i].page_content\n",
        "\n",
        "\n",
        "    def print_code_response(query_result):\n",
        "        content = query_result.page_content\n",
        "        metadata = query_result.metadata\n",
        "\n",
        "        print(f\"File: {metadata['file_path']}\")\n",
        "        print(f\"Line Number: {metadata['line_number']}\")\n",
        "\n",
        "        print(\"\\nPython code from file:\")\n",
        "        print(content)\n",
        "\n",
        "    query_answer = Document(\n",
        "        page_content=page_content,\n",
        "        metadata={'file_path': file_path, 'line_number': line_number}\n",
        "    )\n",
        "    print('---------------------------------------------')\n",
        "    if i+1 == 1:\n",
        "        print('The most relevant code snippet is:')\n",
        "    else:\n",
        "        print(f'The {i+1}th most relevant code snippet is:')\n",
        "    print_code_response(query_answer)\n"
      ]
    }
  ],
  "metadata": {
    "colab": {
      "provenance": []
    },
    "kernelspec": {
      "display_name": "Python 3",
      "name": "python3"
    },
    "language_info": {
      "codemirror_mode": {
        "name": "ipython",
        "version": 3
      },
      "file_extension": ".py",
      "mimetype": "text/x-python",
      "name": "python",
      "nbconvert_exporter": "python",
      "pygments_lexer": "ipython3",
      "version": "3.11.5"
    }
  },
  "nbformat": 4,
  "nbformat_minor": 0
}
